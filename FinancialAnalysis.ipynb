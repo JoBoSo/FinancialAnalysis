{
 "cells": [
  {
   "cell_type": "code",
   "execution_count": 1,
   "metadata": {},
   "outputs": [],
   "source": [
    "# Scroll to the end to see examples."
   ]
  },
  {
   "cell_type": "code",
   "execution_count": 2,
   "metadata": {},
   "outputs": [],
   "source": [
    "import yfinance as yf\n",
    "import pandas as pd\n",
    "import numpy as np"
   ]
  },
  {
   "cell_type": "code",
   "execution_count": 3,
   "metadata": {},
   "outputs": [],
   "source": [
    "class FinancialAnalysis:\n",
    "    '''\n",
    "    Fields:\n",
    "    - self.stock_data stores the last 5 years of market data for stock with 1  \n",
    "         day intervals\n",
    "    - self.benchmark_data same as stock_data but for benchmark\n",
    "    - self.info stores info for stock\n",
    "    - self.rs stores the expected return on stock = avg 1yr return over last\n",
    "         5 years\n",
    "    - self.rm same as rs but for benchmark (ie the market return)\n",
    "    - self.rf stores the risk free rate = price of 13 week t-bill\n",
    "    - self.eps store EPS TTM\n",
    "    - self.price stores the price as of run time\n",
    "    '''\n",
    "    # FinancialAnalysis(stock, benchmark) initiates a new FinancialAnalysis\n",
    "    #    object for stock and associated benchmark.\n",
    "    # Str Str --> FinancialAnalysis\n",
    "    # Requires: stock and benchmark are Yahoo Finance tickers\n",
    "    def __init__(self, stock, benchmark):\n",
    "        # yf tickers\n",
    "        stock = yf.Ticker(stock)\n",
    "        benchmark = yf.Ticker(benchmark)\n",
    "        # stock info - not all have div --> error\n",
    "        self.info = stock.info\n",
    "        try:\n",
    "            self.eps = self.info['epsTrailingTwelveMonths']\n",
    "            self.currency = self.info['currency']\n",
    "            self.price = self.info['regularMarketPrice']   \n",
    "            self.pb = self.info['priceToBook']\n",
    "            self.pe = self.info['trailingPE']\n",
    "            self.name = self.info['longName']\n",
    "            self.symbol = self.info['symbol']\n",
    "            self.exchange = self.info['fullExchangeName']\n",
    "            self.adv3m = self.info['averageDailyVolume3Month']\n",
    "            self.div = self.info['trailingAnnualDividendRate']\n",
    "            self.div_rate = self.div / self.price\n",
    "        except:\n",
    "            KeyError\n",
    "        # historical market data df's\n",
    "        self.stock_data = stock.history(period='5y', interval='1d')\n",
    "        self.benchmark_data = benchmark.history(period='5y', interval='1d')\n",
    "        # adds column 'Return %' to dataframes\n",
    "        for yf_df in [self.stock_data, self.benchmark_data]:\n",
    "            last_close = None\n",
    "            for i, row in yf_df.iterrows():\n",
    "                if last_close != None:\n",
    "                    change = (row['Close'] - last_close) / last_close\n",
    "                    yf_df.at[i, 'Return %'] = 100 * change\n",
    "                last_close = row['Close']\n",
    "        # returns\n",
    "        self.rs = (self.stock_data['Return %'].sum() / 5) / 100\n",
    "        self.rm = (self.benchmark_data['Return %'].sum() / 5) / 100\n",
    "        t_bill = yf.Ticker('^IRX') # 13 week US T-bill ticker\n",
    "        self.rf = t_bill.info['regularMarketPrice'] / 100\n",
    "        # risk premiums\n",
    "        self.erp = self.rs - self.rf # equity risk premium\n",
    "        self.mrp = self.rm - self.rf # market risk premium        \n",
    "               \n",
    "            \n",
    "    # self.beta() produces the five year beta for stock based on benchmark\n",
    "    # beta: FinancialAnalsysis --> Float\n",
    "    def beta(self):\n",
    "        '''\n",
    "        Beta measures a stocks volatility by explaining how the stock has \n",
    "        historically moved in relation to a 1% movement in the associated \n",
    "        benchmark.\n",
    "        '''\n",
    "        # 1. inner merge 'Returns %' for stock and benchmark\n",
    "        left = self.stock_data[['Return %']]\n",
    "        right = self.benchmark_data[['Return %']]\n",
    "        left.rename(columns = {'Return %': 'Stock Return %'}, inplace=True)\n",
    "        right.rename(columns = {'Return %': 'Benchmark Return %'}, inplace=True)\n",
    "        data = pd.merge(left, right, on='Date', how='inner')\n",
    "        # 2. calculate beta\n",
    "        cov = data.cov().at['Stock Return %', 'Benchmark Return %']\n",
    "        var = data['Benchmark Return %'].var()\n",
    "        beta = cov / var\n",
    "        return beta\n",
    "    \n",
    "\n",
    "    # self.capm() produces the expected return on the stocks capital assests\n",
    "    #    according to the capital asset pricing model.\n",
    "    # FinancialAnalysis --> Float\n",
    "    def capm(self):\n",
    "        '''\n",
    "        CAPM generates the cost of equity for securities given the risk of\n",
    "        those assets and the cost of capital.\n",
    "        '''\n",
    "        beta = self.beta()\n",
    "        capm = self.rf + (beta * self.mrp)\n",
    "        return capm\n",
    "    \n",
    "\n",
    "    # self.div_history() produces a dataframe containing dividends paid and\n",
    "    #    corresponding payment dates\n",
    "    # None --> DataFrame\n",
    "    def div_history(self):\n",
    "        divs = self.stock_data[['Dividends']].query('Dividends > 0')\n",
    "        return divs\n",
    "    \n",
    "\n",
    "    # self.div_growth() produces the average growth rate of dividend payments\n",
    "    # FinancialAnalysis --> Float\n",
    "    def div_growth(self):\n",
    "        divs = self.div_history()\n",
    "        changes = []\n",
    "        prev = None\n",
    "        for i, row in divs.iterrows():\n",
    "            curr = row['Dividends']\n",
    "            if prev != None:\n",
    "                change = (curr - prev) / prev\n",
    "                changes += [change]\n",
    "            prev = curr\n",
    "        avg_change = np.mean(np.array(changes))\n",
    "        return avg_change\n",
    "    \n",
    "\n",
    "    # self.ddm() produces the fair value of stock according to the assumptions\n",
    "    #    of the dividend discount model\n",
    "    # FinancialAnalysis --> Float\n",
    "    def ddm(self):\n",
    "        '''\n",
    "        DDM is based on the theory that a company's value is the present value\n",
    "        of its future dividend payments in perpetuity.\n",
    "        '''\n",
    "        equity_cost = self.capm()\n",
    "        div_growth = self.div_growth()\n",
    "        next_div = self.div * (1 + div_growth)\n",
    "        value = next_div / (equity_cost - div_growth)\n",
    "        return value\n",
    "        \n",
    "\n",
    "    # alt_rs(self, approach): produces the expected stock return according to\n",
    "    #    chosen approach. It is an alternative to self.rs.\n",
    "    # requires: approach is one of: earnings-based, div-based\n",
    "    # FinancialAnalysis Str --> Float\n",
    "    def alt_rs(self, approach):\n",
    "        if approach == 'earnings-based':\n",
    "            return self.eps / self.price\n",
    "        elif approach == 'div-based':\n",
    "            g = self.div_growth()\n",
    "            return self.div_rate + g           \n",
    "    \n",
    "\n",
    "    # self.roi(buy_price, commission, quantity, unit) produces the return on\n",
    "    #    investment in stock given buy_price, commission, quantity, and unit.\n",
    "    # requires: unit is one of: percent, dollar\n",
    "    # roi: FinancialAnalysis Num Num Num Str --> Num\n",
    "    # note: uses price as of time the FA object was created\n",
    "    def roi(self, buy_price, commission, quantity, unit):\n",
    "        cost = (buy_price * quantity) + commission\n",
    "        mv = self.price * quantity\n",
    "        if unit is 'percent':\n",
    "            roi = 100 * (mv - cost) / cost\n",
    "        elif unit is 'dollar':\n",
    "            roi = mv - cost           \n",
    "        return roi\n",
    "    \n",
    "\n",
    "    # self.d2l(quantity) computes the number of days required to liquidate a\n",
    "    #    position of size quantity assuming you can capture 20% of the 3 month \n",
    "    #    ADV.\n",
    "    # d2l: FinancialAnalysis Num --> Num\n",
    "    def d2l(self, quantity):\n",
    "        adv_3m = self.adv3m\n",
    "        d2l = quantity / (adv_3m * .2)\n",
    "        return d2l"
   ]
  },
  {
   "cell_type": "code",
   "execution_count": 4,
   "metadata": {},
   "outputs": [],
   "source": [
    "tsla = FinancialAnalysis('TSLA','^GSPC')\n",
    "baba = FinancialAnalysis('BABA','^GSPC')\n",
    "fb = FinancialAnalysis('FB','^GSPC')\n",
    "aapl = FinancialAnalysis('AAPL','^GSPC')\n",
    "amzn = FinancialAnalysis('AMZN','^GSPC')\n",
    "nflx = FinancialAnalysis('NFLX','^GSPC')\n",
    "goog = FinancialAnalysis('GOOG','^GSPC')"
   ]
  },
  {
   "cell_type": "code",
   "execution_count": 5,
   "metadata": {},
   "outputs": [
    {
     "data": {
      "text/plain": [
       "{'language': 'en-US',\n",
       " 'region': 'US',\n",
       " 'quoteType': 'EQUITY',\n",
       " 'triggerable': True,\n",
       " 'quoteSourceName': 'Nasdaq Real Time Price',\n",
       " 'currency': 'USD',\n",
       " 'firstTradeDateMilliseconds': 863683200000,\n",
       " 'priceHint': 2,\n",
       " 'regularMarketChange': -2.6999512,\n",
       " 'regularMarketChangePercent': -0.14270355,\n",
       " 'regularMarketTime': 1579725316,\n",
       " 'regularMarketPrice': 1889.3,\n",
       " 'regularMarketDayHigh': 1902.5,\n",
       " 'regularMarketDayRange': '1883.34 - 1902.5',\n",
       " 'regularMarketDayLow': 1883.34,\n",
       " 'regularMarketVolume': 2660975,\n",
       " 'regularMarketPreviousClose': 1892.0,\n",
       " 'bid': 1890.03,\n",
       " 'ask': 1890.05,\n",
       " 'bidSize': 10,\n",
       " 'askSize': 9,\n",
       " 'fullExchangeName': 'NasdaqGS',\n",
       " 'financialCurrency': 'USD',\n",
       " 'regularMarketOpen': 1896.09,\n",
       " 'averageDailyVolume3Month': 3139882,\n",
       " 'averageDailyVolume10Day': 3246500,\n",
       " 'fiftyTwoWeekLowChange': 322.54004,\n",
       " 'fiftyTwoWeekLowChangePercent': 0.20586435,\n",
       " 'fiftyTwoWeekRange': '1566.76 - 2035.8',\n",
       " 'fiftyTwoWeekHighChange': -146.5,\n",
       " 'fiftyTwoWeekHighChangePercent': -0.07196188,\n",
       " 'fiftyTwoWeekLow': 1566.76,\n",
       " 'fiftyTwoWeekHigh': 2035.8,\n",
       " 'earningsTimestamp': 1580418000,\n",
       " 'earningsTimestampStart': 1580418000,\n",
       " 'earningsTimestampEnd': 1580418000,\n",
       " 'trailingPE': 83.71588,\n",
       " 'marketState': 'REGULAR',\n",
       " 'epsTrailingTwelveMonths': 22.568,\n",
       " 'epsForward': 26.81,\n",
       " 'sharesOutstanding': 495796992,\n",
       " 'bookValue': 114.158,\n",
       " 'fiftyDayAverage': 1825.3318,\n",
       " 'fiftyDayAverageChange': 63.96826,\n",
       " 'fiftyDayAverageChangePercent': 0.03504473,\n",
       " 'twoHundredDayAverage': 1815.7645,\n",
       " 'twoHundredDayAverageChange': 73.53552,\n",
       " 'twoHundredDayAverageChangePercent': 0.04049838,\n",
       " 'marketCap': 936709259264,\n",
       " 'forwardPE': 70.46998,\n",
       " 'priceToBook': 16.54987,\n",
       " 'sourceInterval': 15,\n",
       " 'exchangeDataDelayedBy': 0,\n",
       " 'tradeable': True,\n",
       " 'exchange': 'NMS',\n",
       " 'shortName': 'Amazon.com, Inc.',\n",
       " 'longName': 'Amazon.com, Inc.',\n",
       " 'messageBoardId': 'finmb_18749',\n",
       " 'exchangeTimezoneName': 'America/New_York',\n",
       " 'exchangeTimezoneShortName': 'EST',\n",
       " 'gmtOffSetMilliseconds': -18000000,\n",
       " 'market': 'us_market',\n",
       " 'esgPopulated': False,\n",
       " 'symbol': 'AMZN'}"
      ]
     },
     "execution_count": 5,
     "metadata": {},
     "output_type": "execute_result"
    }
   ],
   "source": [
    "amzn.info"
   ]
  },
  {
   "cell_type": "code",
   "execution_count": 6,
   "metadata": {},
   "outputs": [
    {
     "name": "stderr",
     "output_type": "stream",
     "text": [
      "C:\\Users\\james\\Anaconda3\\lib\\site-packages\\pandas\\core\\frame.py:4025: SettingWithCopyWarning: \n",
      "A value is trying to be set on a copy of a slice from a DataFrame\n",
      "\n",
      "See the caveats in the documentation: http://pandas.pydata.org/pandas-docs/stable/indexing.html#indexing-view-versus-copy\n",
      "  return super(DataFrame, self).rename(**kwargs)\n"
     ]
    },
    {
     "data": {
      "text/plain": [
       "1.3172674378682259"
      ]
     },
     "execution_count": 6,
     "metadata": {},
     "output_type": "execute_result"
    }
   ],
   "source": [
    "amzn.beta()"
   ]
  },
  {
   "cell_type": "code",
   "execution_count": 7,
   "metadata": {},
   "outputs": [
    {
     "data": {
      "text/plain": [
       "0.1325860339769503"
      ]
     },
     "execution_count": 7,
     "metadata": {},
     "output_type": "execute_result"
    }
   ],
   "source": [
    "amzn.capm()"
   ]
  },
  {
   "cell_type": "code",
   "execution_count": 12,
   "metadata": {},
   "outputs": [
    {
     "data": {
      "text/html": [
       "<div>\n",
       "<style scoped>\n",
       "    .dataframe tbody tr th:only-of-type {\n",
       "        vertical-align: middle;\n",
       "    }\n",
       "\n",
       "    .dataframe tbody tr th {\n",
       "        vertical-align: top;\n",
       "    }\n",
       "\n",
       "    .dataframe thead th {\n",
       "        text-align: right;\n",
       "    }\n",
       "</style>\n",
       "<table border=\"1\" class=\"dataframe\">\n",
       "  <thead>\n",
       "    <tr style=\"text-align: right;\">\n",
       "      <th></th>\n",
       "      <th>Dividends</th>\n",
       "    </tr>\n",
       "    <tr>\n",
       "      <th>Date</th>\n",
       "      <th></th>\n",
       "    </tr>\n",
       "  </thead>\n",
       "  <tbody>\n",
       "    <tr>\n",
       "      <th>2015-02-05</th>\n",
       "      <td>0.47</td>\n",
       "    </tr>\n",
       "    <tr>\n",
       "      <th>2015-05-07</th>\n",
       "      <td>0.52</td>\n",
       "    </tr>\n",
       "    <tr>\n",
       "      <th>2015-08-06</th>\n",
       "      <td>0.52</td>\n",
       "    </tr>\n",
       "    <tr>\n",
       "      <th>2015-11-05</th>\n",
       "      <td>0.52</td>\n",
       "    </tr>\n",
       "    <tr>\n",
       "      <th>2016-02-04</th>\n",
       "      <td>0.52</td>\n",
       "    </tr>\n",
       "    <tr>\n",
       "      <th>2016-05-05</th>\n",
       "      <td>0.57</td>\n",
       "    </tr>\n",
       "    <tr>\n",
       "      <th>2016-08-04</th>\n",
       "      <td>0.57</td>\n",
       "    </tr>\n",
       "    <tr>\n",
       "      <th>2016-11-03</th>\n",
       "      <td>0.57</td>\n",
       "    </tr>\n",
       "    <tr>\n",
       "      <th>2017-02-09</th>\n",
       "      <td>0.57</td>\n",
       "    </tr>\n",
       "    <tr>\n",
       "      <th>2017-05-11</th>\n",
       "      <td>0.63</td>\n",
       "    </tr>\n",
       "    <tr>\n",
       "      <th>2017-08-10</th>\n",
       "      <td>0.63</td>\n",
       "    </tr>\n",
       "    <tr>\n",
       "      <th>2017-11-10</th>\n",
       "      <td>0.63</td>\n",
       "    </tr>\n",
       "    <tr>\n",
       "      <th>2018-02-09</th>\n",
       "      <td>0.63</td>\n",
       "    </tr>\n",
       "    <tr>\n",
       "      <th>2018-05-11</th>\n",
       "      <td>0.73</td>\n",
       "    </tr>\n",
       "    <tr>\n",
       "      <th>2018-08-10</th>\n",
       "      <td>0.73</td>\n",
       "    </tr>\n",
       "    <tr>\n",
       "      <th>2018-11-08</th>\n",
       "      <td>0.73</td>\n",
       "    </tr>\n",
       "    <tr>\n",
       "      <th>2019-02-08</th>\n",
       "      <td>0.73</td>\n",
       "    </tr>\n",
       "    <tr>\n",
       "      <th>2019-05-10</th>\n",
       "      <td>0.77</td>\n",
       "    </tr>\n",
       "    <tr>\n",
       "      <th>2019-08-09</th>\n",
       "      <td>0.77</td>\n",
       "    </tr>\n",
       "    <tr>\n",
       "      <th>2019-11-07</th>\n",
       "      <td>0.77</td>\n",
       "    </tr>\n",
       "  </tbody>\n",
       "</table>\n",
       "</div>"
      ],
      "text/plain": [
       "            Dividends\n",
       "Date                 \n",
       "2015-02-05       0.47\n",
       "2015-05-07       0.52\n",
       "2015-08-06       0.52\n",
       "2015-11-05       0.52\n",
       "2016-02-04       0.52\n",
       "2016-05-05       0.57\n",
       "2016-08-04       0.57\n",
       "2016-11-03       0.57\n",
       "2017-02-09       0.57\n",
       "2017-05-11       0.63\n",
       "2017-08-10       0.63\n",
       "2017-11-10       0.63\n",
       "2018-02-09       0.63\n",
       "2018-05-11       0.73\n",
       "2018-08-10       0.73\n",
       "2018-11-08       0.73\n",
       "2019-02-08       0.73\n",
       "2019-05-10       0.77\n",
       "2019-08-09       0.77\n",
       "2019-11-07       0.77"
      ]
     },
     "execution_count": 12,
     "metadata": {},
     "output_type": "execute_result"
    }
   ],
   "source": [
    "aapl.div_history()"
   ]
  },
  {
   "cell_type": "code",
   "execution_count": 13,
   "metadata": {},
   "outputs": [
    {
     "data": {
      "text/plain": [
       "0.027438140107899543"
      ]
     },
     "execution_count": 13,
     "metadata": {},
     "output_type": "execute_result"
    }
   ],
   "source": [
    "aapl.div_growth()"
   ]
  },
  {
   "cell_type": "code",
   "execution_count": 14,
   "metadata": {},
   "outputs": [
    {
     "data": {
      "text/plain": [
       "31.327732740341524"
      ]
     },
     "execution_count": 14,
     "metadata": {},
     "output_type": "execute_result"
    }
   ],
   "source": [
    "aapl.ddm()"
   ]
  },
  {
   "cell_type": "code",
   "execution_count": 15,
   "metadata": {},
   "outputs": [
    {
     "data": {
      "text/plain": [
       "-0.008413418309093333"
      ]
     },
     "execution_count": 15,
     "metadata": {},
     "output_type": "execute_result"
    }
   ],
   "source": [
    "tsla.alt_rs('earnings-based')"
   ]
  },
  {
   "cell_type": "code",
   "execution_count": 16,
   "metadata": {},
   "outputs": [
    {
     "data": {
      "text/plain": [
       "87.81099337748343"
      ]
     },
     "execution_count": 16,
     "metadata": {},
     "output_type": "execute_result"
    }
   ],
   "source": [
    "tsla.roi(300, 20, 10, 'percent')"
   ]
  },
  {
   "cell_type": "code",
   "execution_count": 20,
   "metadata": {},
   "outputs": [
    {
     "data": {
      "text/plain": [
       "1.253304546320465"
      ]
     },
     "execution_count": 20,
     "metadata": {},
     "output_type": "execute_result"
    }
   ],
   "source": [
    "nflx.d2l(1500000)"
   ]
  }
 ],
 "metadata": {
  "kernelspec": {
   "display_name": "Python 3",
   "language": "python",
   "name": "python3"
  },
  "language_info": {
   "codemirror_mode": {
    "name": "ipython",
    "version": 3
   },
   "file_extension": ".py",
   "mimetype": "text/x-python",
   "name": "python",
   "nbconvert_exporter": "python",
   "pygments_lexer": "ipython3",
   "version": "3.7.3"
  }
 },
 "nbformat": 4,
 "nbformat_minor": 2
}
