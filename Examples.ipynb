{
 "cells": [
  {
   "cell_type": "markdown",
   "metadata": {},
   "source": [
    "## Some Calls On My FinancialAnalysis Methods"
   ]
  },
  {
   "cell_type": "code",
   "execution_count": 1,
   "metadata": {},
   "outputs": [],
   "source": [
    "from FinancialAnalysis import FinancialAnalysis\n",
    "\n",
    "import warnings\n",
    "warnings.filterwarnings('ignore')"
   ]
  },
  {
   "cell_type": "code",
   "execution_count": 2,
   "metadata": {},
   "outputs": [],
   "source": [
    "# make stocks FA objects\n",
    "tsla = FinancialAnalysis('TSLA','^GSPC') # Tesla\n",
    "baba = FinancialAnalysis('BABA','^GSPC') # Alibaba\n",
    "fb = FinancialAnalysis('FB','^GSPC')     # Facebook\n",
    "aapl = FinancialAnalysis('AAPL','^GSPC') # Apple\n",
    "amzn = FinancialAnalysis('AMZN','^GSPC') # Amazon\n",
    "nflx = FinancialAnalysis('NFLX','^GSPC') # Netflix\n",
    "goog = FinancialAnalysis('GOOG','^GSPC') # Google"
   ]
  },
  {
   "cell_type": "code",
   "execution_count": 3,
   "metadata": {},
   "outputs": [
    {
     "data": {
      "text/plain": [
       "1.3218"
      ]
     },
     "execution_count": 3,
     "metadata": {},
     "output_type": "execute_result"
    }
   ],
   "source": [
    "# Amazon's 5-year beta\n",
    "round(amzn.beta(), 4)"
   ]
  },
  {
   "cell_type": "code",
   "execution_count": 4,
   "metadata": {},
   "outputs": [
    {
     "data": {
      "text/plain": [
       "0.1354"
      ]
     },
     "execution_count": 4,
     "metadata": {},
     "output_type": "execute_result"
    }
   ],
   "source": [
    "# the expected return on Amazon's assets as per CAPM (theoretical)\n",
    "round(amzn.capm(), 4)"
   ]
  },
  {
   "cell_type": "code",
   "execution_count": 5,
   "metadata": {},
   "outputs": [
    {
     "data": {
      "text/html": [
       "<div>\n",
       "<style scoped>\n",
       "    .dataframe tbody tr th:only-of-type {\n",
       "        vertical-align: middle;\n",
       "    }\n",
       "\n",
       "    .dataframe tbody tr th {\n",
       "        vertical-align: top;\n",
       "    }\n",
       "\n",
       "    .dataframe thead th {\n",
       "        text-align: right;\n",
       "    }\n",
       "</style>\n",
       "<table border=\"1\" class=\"dataframe\">\n",
       "  <thead>\n",
       "    <tr style=\"text-align: right;\">\n",
       "      <th></th>\n",
       "      <th>Dividends</th>\n",
       "    </tr>\n",
       "    <tr>\n",
       "      <th>Date</th>\n",
       "      <th></th>\n",
       "    </tr>\n",
       "  </thead>\n",
       "  <tbody>\n",
       "    <tr>\n",
       "      <th>2015-05-07</th>\n",
       "      <td>0.52</td>\n",
       "    </tr>\n",
       "    <tr>\n",
       "      <th>2015-08-06</th>\n",
       "      <td>0.52</td>\n",
       "    </tr>\n",
       "    <tr>\n",
       "      <th>2015-11-05</th>\n",
       "      <td>0.52</td>\n",
       "    </tr>\n",
       "    <tr>\n",
       "      <th>2016-02-04</th>\n",
       "      <td>0.52</td>\n",
       "    </tr>\n",
       "    <tr>\n",
       "      <th>2016-05-05</th>\n",
       "      <td>0.57</td>\n",
       "    </tr>\n",
       "    <tr>\n",
       "      <th>2016-08-04</th>\n",
       "      <td>0.57</td>\n",
       "    </tr>\n",
       "    <tr>\n",
       "      <th>2016-11-03</th>\n",
       "      <td>0.57</td>\n",
       "    </tr>\n",
       "    <tr>\n",
       "      <th>2017-02-09</th>\n",
       "      <td>0.57</td>\n",
       "    </tr>\n",
       "    <tr>\n",
       "      <th>2017-05-11</th>\n",
       "      <td>0.63</td>\n",
       "    </tr>\n",
       "    <tr>\n",
       "      <th>2017-08-10</th>\n",
       "      <td>0.63</td>\n",
       "    </tr>\n",
       "    <tr>\n",
       "      <th>2017-11-10</th>\n",
       "      <td>0.63</td>\n",
       "    </tr>\n",
       "    <tr>\n",
       "      <th>2018-02-09</th>\n",
       "      <td>0.63</td>\n",
       "    </tr>\n",
       "    <tr>\n",
       "      <th>2018-05-11</th>\n",
       "      <td>0.73</td>\n",
       "    </tr>\n",
       "    <tr>\n",
       "      <th>2018-08-10</th>\n",
       "      <td>0.73</td>\n",
       "    </tr>\n",
       "    <tr>\n",
       "      <th>2018-11-08</th>\n",
       "      <td>0.73</td>\n",
       "    </tr>\n",
       "    <tr>\n",
       "      <th>2019-02-08</th>\n",
       "      <td>0.73</td>\n",
       "    </tr>\n",
       "    <tr>\n",
       "      <th>2019-05-10</th>\n",
       "      <td>0.77</td>\n",
       "    </tr>\n",
       "    <tr>\n",
       "      <th>2019-08-09</th>\n",
       "      <td>0.77</td>\n",
       "    </tr>\n",
       "    <tr>\n",
       "      <th>2019-11-07</th>\n",
       "      <td>0.77</td>\n",
       "    </tr>\n",
       "    <tr>\n",
       "      <th>2020-02-07</th>\n",
       "      <td>0.77</td>\n",
       "    </tr>\n",
       "  </tbody>\n",
       "</table>\n",
       "</div>"
      ],
      "text/plain": [
       "            Dividends\n",
       "Date                 \n",
       "2015-05-07       0.52\n",
       "2015-08-06       0.52\n",
       "2015-11-05       0.52\n",
       "2016-02-04       0.52\n",
       "2016-05-05       0.57\n",
       "2016-08-04       0.57\n",
       "2016-11-03       0.57\n",
       "2017-02-09       0.57\n",
       "2017-05-11       0.63\n",
       "2017-08-10       0.63\n",
       "2017-11-10       0.63\n",
       "2018-02-09       0.63\n",
       "2018-05-11       0.73\n",
       "2018-08-10       0.73\n",
       "2018-11-08       0.73\n",
       "2019-02-08       0.73\n",
       "2019-05-10       0.77\n",
       "2019-08-09       0.77\n",
       "2019-11-07       0.77\n",
       "2020-02-07       0.77"
      ]
     },
     "execution_count": 5,
     "metadata": {},
     "output_type": "execute_result"
    }
   ],
   "source": [
    "# Apple's divident payments over the last 5-years\n",
    "aapl.div_history()"
   ]
  },
  {
   "cell_type": "code",
   "execution_count": 6,
   "metadata": {},
   "outputs": [
    {
     "data": {
      "text/plain": [
       "0.0218"
      ]
     },
     "execution_count": 6,
     "metadata": {},
     "output_type": "execute_result"
    }
   ],
   "source": [
    "# Apple's dividend growth rate over the last 5-years\n",
    "round(aapl.div_growth(), 4)"
   ]
  },
  {
   "cell_type": "code",
   "execution_count": 7,
   "metadata": {},
   "outputs": [
    {
     "data": {
      "text/plain": [
       "28.7425"
      ]
     },
     "execution_count": 7,
     "metadata": {},
     "output_type": "execute_result"
    }
   ],
   "source": [
    "# the fair price of Apple according to the dividend discount model, if only.\n",
    "round(aapl.ddm(), 4)"
   ]
  },
  {
   "cell_type": "code",
   "execution_count": 8,
   "metadata": {},
   "outputs": [
    {
     "data": {
      "text/plain": [
       "-0.0064"
      ]
     },
     "execution_count": 8,
     "metadata": {},
     "output_type": "execute_result"
    }
   ],
   "source": [
    "# expected return on Tesla according to the earnings-based approach.\n",
    "round(tsla.alt_rs('earnings-based'), 4)"
   ]
  },
  {
   "cell_type": "code",
   "execution_count": 9,
   "metadata": {},
   "outputs": [
    {
     "data": {
      "text/plain": [
       "153.59"
      ]
     },
     "execution_count": 9,
     "metadata": {},
     "output_type": "execute_result"
    }
   ],
   "source": [
    "# the % return on 10 Tesla shares bought for $300 with $20 in transaction costs\n",
    "round(tsla.roi(300, 20, 10, 'percent'), 2)"
   ]
  },
  {
   "cell_type": "code",
   "execution_count": 10,
   "metadata": {},
   "outputs": [
    {
     "data": {
      "text/plain": [
       "1.1"
      ]
     },
     "execution_count": 10,
     "metadata": {},
     "output_type": "execute_result"
    }
   ],
   "source": [
    "# the number of days it would take to liquidate 1,500,000 Netflix share assuming you can capture 20% of the 3-month average daily trade volume\n",
    "round(nflx.d2l(1500000), 1)"
   ]
  },
  {
   "cell_type": "code",
   "execution_count": 11,
   "metadata": {},
   "outputs": [
    {
     "data": {
      "text/plain": [
       "{'language': 'en-US',\n",
       " 'region': 'US',\n",
       " 'quoteType': 'EQUITY',\n",
       " 'triggerable': True,\n",
       " 'quoteSourceName': 'Nasdaq Real Time Price',\n",
       " 'currency': 'USD',\n",
       " 'exchange': 'NMS',\n",
       " 'shortName': 'Amazon.com, Inc.',\n",
       " 'longName': 'Amazon.com, Inc.',\n",
       " 'messageBoardId': 'finmb_18749',\n",
       " 'exchangeTimezoneName': 'America/New_York',\n",
       " 'exchangeTimezoneShortName': 'EST',\n",
       " 'gmtOffSetMilliseconds': -18000000,\n",
       " 'market': 'us_market',\n",
       " 'esgPopulated': False,\n",
       " 'firstTradeDateMilliseconds': 863683200000,\n",
       " 'priceHint': 2,\n",
       " 'regularMarketChange': 15.27002,\n",
       " 'regularMarketChangePercent': 0.71558875,\n",
       " 'regularMarketTime': 1581431723,\n",
       " 'regularMarketPrice': 2149.18,\n",
       " 'regularMarketDayHigh': 2154.32,\n",
       " 'regularMarketDayRange': '2143.445 - 2154.32',\n",
       " 'regularMarketDayLow': 2143.445,\n",
       " 'regularMarketVolume': 489782,\n",
       " 'regularMarketPreviousClose': 2133.91,\n",
       " 'bid': 2153.0,\n",
       " 'ask': 2148.95,\n",
       " 'bidSize': 13,\n",
       " 'askSize': 8,\n",
       " 'fullExchangeName': 'NasdaqGS',\n",
       " 'financialCurrency': 'USD',\n",
       " 'regularMarketOpen': 2150.9,\n",
       " 'averageDailyVolume3Month': 3541340,\n",
       " 'averageDailyVolume10Day': 4815166,\n",
       " 'fiftyTwoWeekLowChange': 562.61,\n",
       " 'fiftyTwoWeekLowChangePercent': 0.35460773,\n",
       " 'fiftyTwoWeekRange': '1586.57 - 2154.32',\n",
       " 'fiftyTwoWeekHighChange': -5.1401367,\n",
       " 'fiftyTwoWeekHighChangePercent': -0.002385967,\n",
       " 'fiftyTwoWeekLow': 1586.57,\n",
       " 'fiftyTwoWeekHigh': 2154.32,\n",
       " 'earningsTimestamp': 1580418060,\n",
       " 'earningsTimestampStart': 1587653940,\n",
       " 'earningsTimestampEnd': 1588003200,\n",
       " 'trailingPE': 93.40199,\n",
       " 'marketState': 'REGULAR',\n",
       " 'epsTrailingTwelveMonths': 23.01,\n",
       " 'epsForward': 40.23,\n",
       " 'sharesOutstanding': 498000000,\n",
       " 'bookValue': 124.618,\n",
       " 'fiftyDayAverage': 1907.323,\n",
       " 'fiftyDayAverageChange': 241.85693,\n",
       " 'fiftyDayAverageChangePercent': 0.1268044,\n",
       " 'twoHundredDayAverage': 1812.2583,\n",
       " 'twoHundredDayAverageChange': 336.92163,\n",
       " 'twoHundredDayAverageChangePercent': 0.1859126,\n",
       " 'marketCap': 1069883195392,\n",
       " 'forwardPE': 53.42232,\n",
       " 'priceToBook': 17.246143,\n",
       " 'sourceInterval': 15,\n",
       " 'exchangeDataDelayedBy': 0,\n",
       " 'tradeable': True,\n",
       " 'symbol': 'AMZN'}"
      ]
     },
     "execution_count": 11,
     "metadata": {},
     "output_type": "execute_result"
    }
   ],
   "source": [
    "# Amazon's stock info\n",
    "amzn.info"
   ]
  }
 ],
 "metadata": {
  "kernelspec": {
   "display_name": "Python 3",
   "language": "python",
   "name": "python3"
  },
  "language_info": {
   "codemirror_mode": {
    "name": "ipython",
    "version": 3
   },
   "file_extension": ".py",
   "mimetype": "text/x-python",
   "name": "python",
   "nbconvert_exporter": "python",
   "pygments_lexer": "ipython3",
   "version": "3.7.3"
  }
 },
 "nbformat": 4,
 "nbformat_minor": 4
}
